{
 "cells": [
  {
   "cell_type": "markdown",
   "id": "c2f91de6",
   "metadata": {
    "lines_to_next_cell": 2
   },
   "source": [
    "# RBF γ Sweep: Kernel–Target Alignment vs. SVM Accuracy\n",
    "*Dataset*: Breast-Cancer (binary, 30 features)\n",
    "*Message*: The γ that **maximizes KTA** almost always maximizes test accuracy."
   ]
  },
  {
   "cell_type": "code",
   "execution_count": null,
   "id": "7d7ac1a7",
   "metadata": {},
   "outputs": [],
   "source": [
    "import matplotlib.pyplot as plt\n",
    "import numpy as np\n",
    "from sklearn import datasets, model_selection, svm\n",
    "from sklearn.preprocessing import StandardScaler\n",
    "\n",
    "try:\n",
    "    from kta import kta  # noqa: F401\n",
    "    from kta.kernels import rbf  # noqa: F401\n",
    "except ModuleNotFoundError:\n",
    "    import subprocess\n",
    "    import sys\n",
    "\n",
    "    subprocess.check_call(\n",
    "        [\n",
    "            sys.executable,\n",
    "            \"-m\",\n",
    "            \"pip\",\n",
    "            \"install\",\n",
    "            \"--quiet\",\n",
    "            \"git+https://github.com/whitham-powell/kernel-target-alignment.git\",\n",
    "        ],\n",
    "    )\n",
    "    from kta import kta\n",
    "    from kta.kernels import rbf"
   ]
  },
  {
   "cell_type": "code",
   "execution_count": null,
   "id": "d7cb80d0",
   "metadata": {},
   "outputs": [],
   "source": [
    "# 1️⃣ data\n",
    "X, y = datasets.load_breast_cancer(return_X_y=True)\n",
    "y = np.where(y == 0, -1, 1)\n",
    "X_tr, X_te, y_tr, y_te = model_selection.train_test_split(\n",
    "    X,\n",
    "    y,\n",
    "    test_size=0.3,\n",
    "    random_state=0,\n",
    "    stratify=y,\n",
    ")\n",
    "scaler = StandardScaler().fit(X_tr)\n",
    "X_tr = scaler.transform(X_tr)\n",
    "X_te = scaler.transform(X_te)\n",
    "\n",
    "# 2️⃣ sweep γ\n",
    "gammas = np.logspace(-5, 2, 40)\n",
    "alignment = []\n",
    "accuracy = []\n",
    "\n",
    "for g in gammas:\n",
    "    K_tr = rbf(X_tr, gamma=g)\n",
    "    alignment.append(kta(K_tr, y_tr))\n",
    "\n",
    "    K_te = rbf(X_te, X_tr, gamma=g)\n",
    "\n",
    "    clf = svm.SVC(kernel=\"precomputed\", gamma=g, C=1.0)\n",
    "    clf.fit(K_tr, y_tr)\n",
    "    accuracy.append(clf.score(K_te, y_te))\n",
    "\n",
    "alignment = np.array(alignment)\n",
    "accuracy = np.array(accuracy)"
   ]
  },
  {
   "cell_type": "code",
   "execution_count": null,
   "id": "8fd9c4ab",
   "metadata": {},
   "outputs": [],
   "source": [
    "# 3️⃣ plot\n",
    "fig, ax1 = plt.subplots(figsize=(7, 4))\n",
    "ax2 = ax1.twinx()\n",
    "\n",
    "ax1.plot(np.log10(gammas), alignment, marker=\"o\", label=\"KTA\")\n",
    "ax2.plot(np.log10(gammas), accuracy, marker=\"x\", color=\"tab:orange\", label=\"Accuracy\")\n",
    "\n",
    "ax1.set_xlabel(\"log₁₀ γ\")\n",
    "ax1.set_ylabel(\"Alignment\")\n",
    "ax2.set_ylabel(\"Test accuracy\")\n",
    "fig.legend()\n",
    "\n",
    "fig.suptitle(\"RBF γ sweep — alignment closely tracks accuracy\")\n",
    "# fig.tight_layout()\n",
    "plt.show()"
   ]
  },
  {
   "cell_type": "code",
   "execution_count": null,
   "id": "d26a9e98",
   "metadata": {},
   "outputs": [],
   "source": []
  }
 ],
 "metadata": {
  "jupytext": {
   "cell_metadata_filter": "-all",
   "formats": "py:percent,ipynb",
   "main_language": "python"
  }
 },
 "nbformat": 4,
 "nbformat_minor": 5
}
