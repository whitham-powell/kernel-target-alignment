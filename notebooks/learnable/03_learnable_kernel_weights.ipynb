{
 "cells": [
  {
   "cell_type": "code",
   "execution_count": null,
   "id": "23ea3f14",
   "metadata": {
    "lines_to_next_cell": 0
   },
   "outputs": [],
   "source": [
    "# notebooks/learnable/03_learnable_kernel_weights.py"
   ]
  },
  {
   "cell_type": "markdown",
   "id": "f7fbd41e",
   "metadata": {},
   "source": [
    "# Jointly Learn Kernel Parameters and Weights\n",
    "- Dataset: Breast Cancer\n",
    "- Kernels: Learnable RBF, Polynomial, Sigmoid\n",
    "- Goal: Learn both parameters and convex weights to maximize KTA"
   ]
  },
  {
   "cell_type": "code",
   "execution_count": null,
   "id": "0b80c441",
   "metadata": {},
   "outputs": [],
   "source": [
    "try:\n",
    "    from kta import (\n",
    "        KernelCombiner,\n",
    "        LearnablePolynomial,\n",
    "        LearnableRBF,\n",
    "        LearnableSigmoid,\n",
    "        kta_torch,\n",
    "    )\n",
    "except ModuleNotFoundError:\n",
    "    import subprocess\n",
    "    import sys\n",
    "\n",
    "    subprocess.check_call(\n",
    "        [\n",
    "            sys.executable,\n",
    "            \"-m\",\n",
    "            \"pip\",\n",
    "            \"install\",\n",
    "            \"--quiet\",\n",
    "            \"git+https://github.com/whitham-powell/kernel-target-alignment.git\",\n",
    "        ],\n",
    "    )\n",
    "    from kta import (\n",
    "        LearnableRBF,\n",
    "        LearnablePolynomial,\n",
    "        LearnableSigmoid,\n",
    "        KernelCombiner,\n",
    "        kta_torch,\n",
    "    )\n",
    "\n",
    "import matplotlib.pyplot as plt\n",
    "import torch\n",
    "from sklearn import datasets, model_selection, preprocessing\n",
    "from sklearn.svm import SVC"
   ]
  },
  {
   "cell_type": "markdown",
   "id": "c090560d",
   "metadata": {},
   "source": [
    "## 1. Load and preprocess data"
   ]
  },
  {
   "cell_type": "code",
   "execution_count": null,
   "id": "dbd8985f",
   "metadata": {},
   "outputs": [],
   "source": [
    "X, y = datasets.load_breast_cancer(return_X_y=True)\n",
    "y = (y * 2 - 1).astype(float)\n",
    "\n",
    "X_tr, X_te, y_tr, y_te = model_selection.train_test_split(\n",
    "    X,\n",
    "    y,\n",
    "    test_size=0.3,\n",
    "    random_state=0,\n",
    "    stratify=y,\n",
    ")\n",
    "\n",
    "scaler = preprocessing.StandardScaler().fit(X_tr)\n",
    "X_tr = scaler.transform(X_tr)\n",
    "X_te = scaler.transform(X_te)\n",
    "\n",
    "X = torch.tensor(X_tr, dtype=torch.float32)\n",
    "y = torch.tensor(y_tr, dtype=torch.float32)\n",
    "X_test = torch.tensor(X_te, dtype=torch.float32)\n",
    "y_test = y_te"
   ]
  },
  {
   "cell_type": "markdown",
   "id": "4b42dc12",
   "metadata": {},
   "source": [
    "## 2. Build learnable kernel combiner"
   ]
  },
  {
   "cell_type": "code",
   "execution_count": null,
   "id": "92bca4d3",
   "metadata": {},
   "outputs": [],
   "source": [
    "kernels = [\n",
    "    LearnableRBF(gamma_init=1.0),\n",
    "    LearnablePolynomial(degree=2, c_init=1.0),\n",
    "    LearnableSigmoid(gamma_init=0.01, c_init=0.0),\n",
    "]\n",
    "\n",
    "model = KernelCombiner(kernels)\n",
    "optimizer = torch.optim.Adam(model.parameters(), lr=0.05)"
   ]
  },
  {
   "cell_type": "markdown",
   "id": "79bc31ef",
   "metadata": {},
   "source": [
    "## 3. Optimize KTA"
   ]
  },
  {
   "cell_type": "code",
   "execution_count": null,
   "id": "edc62d0c",
   "metadata": {},
   "outputs": [],
   "source": [
    "alignments = []\n",
    "weights_history = []\n",
    "accuracies = []\n",
    "params_history = []\n",
    "accuracy_freq = 1  # Check accuracy every `accuracy_freq` epochs\n",
    "\n",
    "for epoch in range(100):\n",
    "    K_train = model(X)\n",
    "    loss = -kta_torch(K_train, y)\n",
    "    optimizer.zero_grad()\n",
    "    loss.backward()\n",
    "    optimizer.step()\n",
    "\n",
    "    alignments.append(-loss.item())\n",
    "    with torch.no_grad():\n",
    "        weights_history.append(torch.softmax(model.raw_weights, dim=0).cpu().tolist())\n",
    "        params = [p.item() for k in model.kernels for p in k.parameters()]\n",
    "        params_history.append(params)\n",
    "\n",
    "    if epoch % accuracy_freq == 0:\n",
    "        with torch.no_grad():\n",
    "            K_train_np = K_train.detach().cpu().numpy()\n",
    "            K_test_np = model(X_test, X).detach().cpu().numpy()\n",
    "        clf = SVC(kernel=\"precomputed\")\n",
    "        clf.fit(K_train_np, y.cpu().numpy())\n",
    "        acc = clf.score(K_test_np, y_test)\n",
    "        accuracies.append((epoch, acc))"
   ]
  },
  {
   "cell_type": "markdown",
   "id": "2c76df3b",
   "metadata": {},
   "source": [
    "## 4. Plot alignment and weight evolution"
   ]
  },
  {
   "cell_type": "code",
   "execution_count": null,
   "id": "56cdb7c0",
   "metadata": {},
   "outputs": [],
   "source": [
    "fig, ax1 = plt.subplots()\n",
    "ax1.plot(alignments, label=\"KTA\")\n",
    "ax1.set_ylabel(\"Alignment\")\n",
    "ax1.set_xlabel(\"Epoch\")\n",
    "ax1.set_title(\"Learnable Kernels: Alignment\")\n",
    "plt.show()"
   ]
  },
  {
   "cell_type": "code",
   "execution_count": null,
   "id": "23f97fa4",
   "metadata": {},
   "outputs": [],
   "source": [
    "weights_history = torch.tensor(weights_history)\n",
    "fig, ax = plt.subplots()\n",
    "for i in range(weights_history.shape[1]):\n",
    "    ax.plot(weights_history[:, i], label=f\"Kernel {i+1}\")\n",
    "ax.set_xlabel(\"Epoch\")\n",
    "ax.set_ylabel(\"Weight\")\n",
    "ax.set_title(\"Kernel Weights Over Time\")\n",
    "ax.legend()\n",
    "plt.show()"
   ]
  },
  {
   "cell_type": "markdown",
   "id": "e8956882",
   "metadata": {},
   "source": [
    "## 5. Accuracy vs Epoch"
   ]
  },
  {
   "cell_type": "code",
   "execution_count": null,
   "id": "99ded37f",
   "metadata": {},
   "outputs": [],
   "source": [
    "if accuracies:\n",
    "    epochs, accs = zip(*accuracies)\n",
    "    plt.plot(epochs, accs, marker=\"o\")\n",
    "    plt.xlabel(\"Epoch\")\n",
    "    plt.ylabel(\"Test Accuracy\")\n",
    "    plt.title(f\"SVC Accuracy (Every {accuracy_freq} Epochs)\")\n",
    "    plt.grid(True)\n",
    "    plt.show()"
   ]
  },
  {
   "cell_type": "markdown",
   "id": "b5ab65d4",
   "metadata": {},
   "source": [
    "## 6. Final Weights, Alignment, Parameters"
   ]
  },
  {
   "cell_type": "code",
   "execution_count": null,
   "id": "61cc3f5f",
   "metadata": {},
   "outputs": [],
   "source": [
    "print(\"Final weights:\", torch.softmax(model.raw_weights, dim=0))\n",
    "print(f\"Final alignment: {alignments[-1]:.4f}\")\n",
    "print(\"Final kernel parameters:\")\n",
    "for i, k in enumerate(model.kernels):\n",
    "    for name, param in k.named_parameters():\n",
    "        print(f\"Kernel {i+1} - {name}: {param.item():.4f}\")"
   ]
  },
  {
   "cell_type": "markdown",
   "id": "17a940b2",
   "metadata": {},
   "source": [
    "## 7. Plot Kernel Parameter Evolution\n",
    "Tracks each learnable parameter (e.g., gamma, c) over time."
   ]
  },
  {
   "cell_type": "code",
   "execution_count": null,
   "id": "63373a0d",
   "metadata": {
    "lines_to_next_cell": 2
   },
   "outputs": [],
   "source": [
    "params_history = torch.tensor(params_history)\n",
    "param_labels = [\"RBF gamma\", \"Poly c\", \"Sigmoid gamma\", \"Sigmoid c\"]\n",
    "\n",
    "fig, ax = plt.subplots()\n",
    "for i in range(params_history.shape[1]):\n",
    "    ax.plot(params_history[:, i], label=param_labels[i])\n",
    "ax.set_xlabel(\"Epoch\")\n",
    "ax.set_ylabel(\"Parameter Value\")\n",
    "ax.set_title(\"Learnable Kernel Parameters Over Time\")\n",
    "ax.legend()\n",
    "plt.grid(True, linestyle=\"--\", alpha=0.5)\n",
    "plt.tight_layout()\n",
    "plt.show()"
   ]
  },
  {
   "cell_type": "code",
   "execution_count": null,
   "id": "dbfc8408",
   "metadata": {},
   "outputs": [],
   "source": []
  }
 ],
 "metadata": {
  "jupytext": {
   "cell_metadata_filter": "-all",
   "formats": "py:percent,ipynb",
   "main_language": "python"
  }
 },
 "nbformat": 4,
 "nbformat_minor": 5
}
