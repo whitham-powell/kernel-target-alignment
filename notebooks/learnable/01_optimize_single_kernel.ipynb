{
 "cells": [
  {
   "cell_type": "code",
   "execution_count": null,
   "id": "049db0b3",
   "metadata": {
    "lines_to_next_cell": 0
   },
   "outputs": [],
   "source": [
    "# notebooks/learnable/01_optimize_single_kernel.py"
   ]
  },
  {
   "cell_type": "markdown",
   "id": "01618678",
   "metadata": {},
   "source": [
    "# Optimize Single Learnable Kernel (RBF)\n",
    "- Dataset: Breast Cancer\n",
    "- Model: LearnableRBF\n",
    "- Goal: Maximize KTA over time"
   ]
  },
  {
   "cell_type": "code",
   "execution_count": null,
   "id": "ec71f104",
   "metadata": {},
   "outputs": [],
   "source": [
    "\n",
    "import matplotlib.pyplot as plt\n",
    "import torch\n",
    "from sklearn import datasets, model_selection, preprocessing\n",
    "\n",
    "try:\n",
    "    from kta import LearnableRBF, kta_torch\n",
    "except ModuleNotFoundError:\n",
    "    import subprocess\n",
    "    import sys\n",
    "\n",
    "    subprocess.check_call(\n",
    "        [\n",
    "            sys.executable,\n",
    "            \"-m\",\n",
    "            \"pip\",\n",
    "            \"install\",\n",
    "            \"--quiet\",\n",
    "            \"git+https://github.com/whitham-powell/kernel-target-alignment.git\",\n",
    "        ],\n",
    "    )\n",
    "    from kta import LearnableRBF, kta_torch"
   ]
  },
  {
   "cell_type": "markdown",
   "id": "77b38449",
   "metadata": {},
   "source": [
    "## 1. Load and preprocess data"
   ]
  },
  {
   "cell_type": "code",
   "execution_count": null,
   "id": "30d590e0",
   "metadata": {},
   "outputs": [],
   "source": [
    "X, y = datasets.load_breast_cancer(return_X_y=True)\n",
    "y = (y * 2 - 1).astype(float)  # convert to {-1, 1}\n",
    "\n",
    "X_tr, X_te, y_tr, y_te = model_selection.train_test_split(\n",
    "    X,\n",
    "    y,\n",
    "    test_size=0.3,\n",
    "    random_state=0,\n",
    "    stratify=y,\n",
    ")\n",
    "\n",
    "scaler = preprocessing.StandardScaler().fit(X_tr)\n",
    "X_tr = scaler.transform(X_tr)\n",
    "X_te = scaler.transform(X_te)\n",
    "\n",
    "X = torch.tensor(X_tr, dtype=torch.float32)\n",
    "y = torch.tensor(y_tr, dtype=torch.float32)"
   ]
  },
  {
   "cell_type": "markdown",
   "id": "75e5f101",
   "metadata": {},
   "source": [
    "## 2. Initialize model and optimizer"
   ]
  },
  {
   "cell_type": "code",
   "execution_count": null,
   "id": "8e71a7fc",
   "metadata": {},
   "outputs": [],
   "source": [
    "model = LearnableRBF(gamma_init=1.0)\n",
    "optimizer = torch.optim.Adam(model.parameters(), lr=0.05)"
   ]
  },
  {
   "cell_type": "markdown",
   "id": "7bcc7e2b",
   "metadata": {},
   "source": [
    "## 3. Train loop: maximize KTA"
   ]
  },
  {
   "cell_type": "code",
   "execution_count": null,
   "id": "0f5cb9e9",
   "metadata": {},
   "outputs": [],
   "source": [
    "alignments = []\n",
    "gammas = []\n",
    "\n",
    "for epoch in range(100):\n",
    "    K = model(X)\n",
    "    loss = -kta_torch(K, y)\n",
    "    optimizer.zero_grad()\n",
    "    loss.backward()\n",
    "    optimizer.step()\n",
    "\n",
    "    alignments.append(-loss.item())\n",
    "    gammas.append(model.gamma.item())"
   ]
  },
  {
   "cell_type": "markdown",
   "id": "0d9b455a",
   "metadata": {},
   "source": [
    "## 4. Plot results"
   ]
  },
  {
   "cell_type": "code",
   "execution_count": null,
   "id": "2ff2f8d5",
   "metadata": {},
   "outputs": [],
   "source": [
    "fig, ax1 = plt.subplots()\n",
    "ax2 = ax1.twinx()\n",
    "ax1.plot(alignments, label=\"KTA\", color=\"tab:blue\")\n",
    "ax2.plot(gammas, label=\"gamma\", color=\"tab:orange\")\n",
    "\n",
    "ax1.set_xlabel(\"Epoch\")\n",
    "ax1.set_ylabel(\"Alignment\", color=\"tab:blue\")\n",
    "ax2.set_ylabel(\"Gamma\", color=\"tab:orange\")\n",
    "fig.suptitle(\"Learnable RBF: KTA vs Gamma\")\n",
    "fig.tight_layout()\n",
    "plt.show()"
   ]
  },
  {
   "cell_type": "markdown",
   "id": "7e90f9de",
   "metadata": {
    "lines_to_next_cell": 0
   },
   "source": [
    "## 5. Final gamma and alignment"
   ]
  },
  {
   "cell_type": "code",
   "execution_count": null,
   "id": "215be179",
   "metadata": {},
   "outputs": [],
   "source": [
    "print(f\"Final gamma: {model.gamma.item():.4f}\")\n",
    "print(f\"Final alignment: {alignments[-1]:.4f}\")"
   ]
  },
  {
   "cell_type": "code",
   "execution_count": null,
   "id": "f5df806b",
   "metadata": {},
   "outputs": [],
   "source": []
  }
 ],
 "metadata": {
  "jupytext": {
   "cell_metadata_filter": "-all",
   "formats": "py:percent,ipynb",
   "main_language": "python"
  }
 },
 "nbformat": 4,
 "nbformat_minor": 5
}
