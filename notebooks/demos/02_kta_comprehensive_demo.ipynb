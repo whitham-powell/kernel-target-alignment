{
 "cells": [
  {
   "cell_type": "markdown",
   "id": "cdb97a40",
   "metadata": {},
   "source": [
    "# Comprehensive Analysis of Kernel-Target Alignment (KTA)\n",
    "\n",
    "**Goals:**\n",
    "- Demonstrate Kernel-Target Alignment across multiple datasets\n",
    "- Evaluate multiple kernel types (Linear, Polynomial, RBF, Sigmoid)\n",
    "- Compare accuracy with Kernel-Target Alignment (KTA)\n"
   ]
  },
  {
   "cell_type": "code",
   "execution_count": null,
   "id": "4fc80701",
   "metadata": {},
   "outputs": [],
   "source": [
    "import matplotlib.pyplot as plt\n",
    "from sklearn import datasets, model_selection, svm\n",
    "from sklearn.preprocessing import StandardScaler\n",
    "\n",
    "try:\n",
    "    from kta import kta  # noqa: F401\n",
    "    from kta import linear, polynomial, rbf, sigmoid  # noqa: F401\n",
    "except ModuleNotFoundError:\n",
    "    import subprocess\n",
    "    import sys\n",
    "\n",
    "    subprocess.check_call(\n",
    "        [\n",
    "            sys.executable,\n",
    "            \"-m\",\n",
    "            \"pip\",\n",
    "            \"install\",\n",
    "            \"--quiet\",\n",
    "            \"git+https://github.com/whitham-powell/kernel-target-alignment.git\",\n",
    "        ],\n",
    "    )\n",
    "    from kta import kta, linear, polynomial, rbf, sigmoid"
   ]
  },
  {
   "cell_type": "markdown",
   "id": "dc295887",
   "metadata": {},
   "source": [
    "## 1️⃣ Setup Datasets"
   ]
  },
  {
   "cell_type": "code",
   "execution_count": null,
   "id": "0168c295",
   "metadata": {},
   "outputs": [],
   "source": [
    "dataset_loaders = {\n",
    "    \"Iris\": datasets.load_iris,\n",
    "    \"Digits\": datasets.load_digits,\n",
    "    \"Breast Cancer\": datasets.load_breast_cancer,\n",
    "}"
   ]
  },
  {
   "cell_type": "markdown",
   "id": "2caab963",
   "metadata": {},
   "source": [
    "## 2️⃣ Define Kernels and Hyperparameters"
   ]
  },
  {
   "cell_type": "code",
   "execution_count": null,
   "id": "c31f83a4",
   "metadata": {},
   "outputs": [],
   "source": [
    "kernels = {\n",
    "    \"Linear\": lambda X, Xp=None: linear(X, Xp),\n",
    "    \"Polynomial\": lambda X, Xp=None: polynomial(X, Xp, degree=3, c=1),\n",
    "    \"RBF\": lambda X, Xp=None: rbf(X, Xp, gamma=1),\n",
    "    \"Sigmoid\": lambda X, Xp=None: sigmoid(X, Xp, gamma=0.01, c=0),\n",
    "}"
   ]
  },
  {
   "cell_type": "markdown",
   "id": "964543f5",
   "metadata": {},
   "source": [
    "## 3️⃣ Run Experiments and Collect Results"
   ]
  },
  {
   "cell_type": "code",
   "execution_count": null,
   "id": "73576c83",
   "metadata": {},
   "outputs": [],
   "source": [
    "results = {}\n",
    "\n",
    "for ds_name, loader in dataset_loaders.items():\n",
    "    X, y = loader(return_X_y=True)\n",
    "    X_tr, X_te, y_tr, y_te = model_selection.train_test_split(\n",
    "        X,\n",
    "        y,\n",
    "        test_size=0.3,\n",
    "        random_state=42,\n",
    "        stratify=y,\n",
    "    )\n",
    "\n",
    "    scaler = StandardScaler().fit(X_tr)\n",
    "    X_tr = scaler.transform(X_tr)\n",
    "    X_te = scaler.transform(X_te)\n",
    "\n",
    "    results[ds_name] = {}\n",
    "\n",
    "    for kernel_name, kernel_fn in kernels.items():\n",
    "        K_tr = kernel_fn(X_tr)\n",
    "        K_te = kernel_fn(X_te, X_tr)\n",
    "\n",
    "        align_score = kta(K_tr, y_tr)\n",
    "\n",
    "        clf = svm.SVC(kernel=\"precomputed\", C=1.0)\n",
    "        clf.fit(K_tr, y_tr)\n",
    "        accuracy = clf.score(K_te, y_te)\n",
    "\n",
    "        results[ds_name][kernel_name] = {\"Alignment\": align_score, \"Accuracy\": accuracy}"
   ]
  },
  {
   "cell_type": "markdown",
   "id": "5b5fe746",
   "metadata": {},
   "source": [
    "## 4️⃣ Plot Alignment vs Accuracy"
   ]
  },
  {
   "cell_type": "code",
   "execution_count": null,
   "id": "9d02ebaf",
   "metadata": {},
   "outputs": [],
   "source": [
    "fig, axs = plt.subplots(1, len(dataset_loaders), figsize=(16, 5), sharey=True)\n",
    "\n",
    "for i, (ds_name, kernels_result) in enumerate(results.items()):\n",
    "    alignments = [res[\"Alignment\"] for res in kernels_result.values()]\n",
    "    accuracies = [res[\"Accuracy\"] for res in kernels_result.values()]\n",
    "    kernel_labels = list(kernels_result.keys())\n",
    "\n",
    "    axs[i].scatter(alignments, accuracies, s=100)\n",
    "\n",
    "    for j, kernel_label in enumerate(kernel_labels):\n",
    "        axs[i].annotate(\n",
    "            kernel_label,\n",
    "            (alignments[j], accuracies[j]),\n",
    "            xytext=(5, -5),\n",
    "            textcoords=\"offset points\",\n",
    "            fontsize=9,\n",
    "        )\n",
    "\n",
    "    axs[i].set_title(ds_name)\n",
    "    axs[i].set_xlabel(\"Alignment\")\n",
    "    if i == 0:\n",
    "        axs[i].set_ylabel(\"Accuracy\")\n",
    "\n",
    "    axs[i].grid(True, linestyle=\"--\", alpha=0.5)\n",
    "\n",
    "fig.suptitle(\"Kernel-Target Alignment vs. Accuracy across Datasets\")\n",
    "plt.tight_layout(rect=[0, 0.03, 1, 0.95])\n",
    "plt.show()"
   ]
  },
  {
   "cell_type": "markdown",
   "id": "d257436b",
   "metadata": {},
   "source": [
    "## 5️⃣ Insights\n",
    "- Kernels with higher alignment generally yield higher accuracy.\n",
    "- KTA can guide effective kernel selection."
   ]
  }
 ],
 "metadata": {
  "jupytext": {
   "cell_metadata_filter": "-all",
   "formats": "py:percent,ipynb",
   "main_language": "python"
  }
 },
 "nbformat": 4,
 "nbformat_minor": 5
}
