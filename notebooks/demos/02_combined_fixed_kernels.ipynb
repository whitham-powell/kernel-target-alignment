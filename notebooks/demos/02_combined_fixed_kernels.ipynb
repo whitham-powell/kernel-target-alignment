{
 "cells": [
  {
   "cell_type": "code",
   "execution_count": null,
   "id": "4432b36d",
   "metadata": {
    "lines_to_next_cell": 0
   },
   "outputs": [],
   "source": [
    "# notebooks/learnable/02_combine_fixed_kernels.py"
   ]
  },
  {
   "cell_type": "markdown",
   "id": "d660fa6c",
   "metadata": {},
   "source": [
    "# Learn Weights for Fixed Kernels\n",
    "- Dataset: Breast Cancer\n",
    "- Kernels: Fixed RBF, Linear, Polynomial\n",
    "- Goal: Learn convex weights to maximize KTA"
   ]
  },
  {
   "cell_type": "code",
   "execution_count": null,
   "id": "553b98f3",
   "metadata": {},
   "outputs": [],
   "source": [
    "try:\n",
    "    from kta import (\n",
    "        FixedKernel,\n",
    "        KernelCombiner,\n",
    "        kta_torch,\n",
    "        linear_torch,\n",
    "        polynomial_torch,\n",
    "        rbf_torch,\n",
    "    )\n",
    "except ModuleNotFoundError:\n",
    "    import subprocess\n",
    "    import sys\n",
    "\n",
    "    subprocess.check_call(\n",
    "        [\n",
    "            sys.executable,\n",
    "            \"-m\",\n",
    "            \"pip\",\n",
    "            \"install\",\n",
    "            \"--quiet\",\n",
    "            \"git+https://github.com/whitham-powell/kernel-target-alignment.git\",\n",
    "        ],\n",
    "    )\n",
    "    from kta import (\n",
    "        FixedKernel,\n",
    "        KernelCombiner,\n",
    "        kta_torch,\n",
    "        rbf_torch,\n",
    "        linear_torch,\n",
    "        polynomial_torch,\n",
    "    )\n",
    "\n",
    "import matplotlib.pyplot as plt\n",
    "import torch\n",
    "from sklearn import datasets, model_selection, preprocessing\n",
    "from sklearn.svm import SVC"
   ]
  },
  {
   "cell_type": "markdown",
   "id": "cf0cc1e5",
   "metadata": {},
   "source": [
    "## 1. Load and preprocess data"
   ]
  },
  {
   "cell_type": "code",
   "execution_count": null,
   "id": "d06f2afd",
   "metadata": {},
   "outputs": [],
   "source": [
    "X, y = datasets.load_breast_cancer(return_X_y=True)\n",
    "y = (y * 2 - 1).astype(float)  # convert to {-1, 1}\n",
    "\n",
    "X_tr, X_te, y_tr, y_te = model_selection.train_test_split(\n",
    "    X,\n",
    "    y,\n",
    "    test_size=0.3,\n",
    "    random_state=0,\n",
    "    stratify=y,\n",
    ")\n",
    "\n",
    "scaler = preprocessing.StandardScaler().fit(X_tr)\n",
    "X_tr = scaler.transform(X_tr)\n",
    "X_te = scaler.transform(X_te)\n",
    "\n",
    "X = torch.tensor(X_tr, dtype=torch.float32)\n",
    "y = torch.tensor(y_tr, dtype=torch.float32)\n",
    "X_test = torch.tensor(X_te, dtype=torch.float32)\n",
    "y_test = y_te  # keep as NumPy array for SVC"
   ]
  },
  {
   "cell_type": "markdown",
   "id": "b7f632bd",
   "metadata": {},
   "source": [
    "## 2. Build fixed kernel combiner"
   ]
  },
  {
   "cell_type": "code",
   "execution_count": null,
   "id": "c78d5a1a",
   "metadata": {},
   "outputs": [],
   "source": [
    "kernels = [\n",
    "    FixedKernel(lambda X1, X2=None: rbf_torch(X1, X2, gamma=0.1)),\n",
    "    FixedKernel(lambda X1, X2=None: rbf_torch(X1, X2, gamma=1.0)),\n",
    "    FixedKernel(lambda X1, X2=None: polynomial_torch(X1, X2, degree=2, c=1.0)),\n",
    "    FixedKernel(lambda X1, X2=None: linear_torch(X1, X2)),\n",
    "]\n",
    "\n",
    "\n",
    "model = KernelCombiner(kernels)\n",
    "optimizer = torch.optim.Adam(model.parameters(), lr=0.05)"
   ]
  },
  {
   "cell_type": "markdown",
   "id": "7de19aca",
   "metadata": {},
   "source": [
    "## 3. Optimize weights to maximize alignment"
   ]
  },
  {
   "cell_type": "code",
   "execution_count": null,
   "id": "3a08925b",
   "metadata": {},
   "outputs": [],
   "source": [
    "alignments = []\n",
    "weights_history = []\n",
    "accuracies = []\n",
    "\n",
    "for epoch in range(100):\n",
    "    K_train = model(X)\n",
    "    loss = -kta_torch(K_train, y)\n",
    "    optimizer.zero_grad()\n",
    "    loss.backward()\n",
    "    optimizer.step()\n",
    "\n",
    "    alignments.append(-loss.item())\n",
    "    with torch.no_grad():\n",
    "        weights_history.append(torch.softmax(model.raw_weights, dim=0).cpu().tolist())\n",
    "\n",
    "    # Accuracy every 5 epochs\n",
    "    if epoch % 5 == 0:\n",
    "        with torch.no_grad():\n",
    "            K_train_np = K_train.detach().cpu().numpy()\n",
    "            K_test_np = model(X_test, X).detach().cpu().numpy()\n",
    "\n",
    "        clf = SVC(kernel=\"precomputed\")\n",
    "        clf.fit(K_train_np, y.cpu().numpy())\n",
    "        acc = clf.score(K_test_np, y_test)\n",
    "        accuracies.append((epoch, acc))"
   ]
  },
  {
   "cell_type": "markdown",
   "id": "5b039d89",
   "metadata": {},
   "source": [
    "## 4. Plot alignment and weight evolution"
   ]
  },
  {
   "cell_type": "code",
   "execution_count": null,
   "id": "4e95df88",
   "metadata": {},
   "outputs": [],
   "source": [
    "fig, ax1 = plt.subplots()\n",
    "ax1.plot(alignments, label=\"KTA\")\n",
    "ax1.set_ylabel(\"Alignment\")\n",
    "ax1.set_xlabel(\"Epoch\")\n",
    "ax1.set_title(\"Combined Fixed Kernels: Alignment\")\n",
    "plt.show()"
   ]
  },
  {
   "cell_type": "code",
   "execution_count": null,
   "id": "8a0670a5",
   "metadata": {},
   "outputs": [],
   "source": [
    "weights_history = torch.tensor(weights_history)\n",
    "fig, ax = plt.subplots()\n",
    "for i in range(weights_history.shape[1]):\n",
    "    ax.plot(weights_history[:, i], label=f\"Kernel {i+1}\")\n",
    "ax.set_xlabel(\"Epoch\")\n",
    "ax.set_ylabel(\"Weight\")\n",
    "ax.set_title(\"Kernel Weights Over Time\")\n",
    "ax.legend()\n",
    "plt.show()"
   ]
  },
  {
   "cell_type": "markdown",
   "id": "566f9f7c",
   "metadata": {},
   "source": [
    "## 5. Accuracy vs Epoch"
   ]
  },
  {
   "cell_type": "code",
   "execution_count": null,
   "id": "7e3ce4e3",
   "metadata": {},
   "outputs": [],
   "source": [
    "if accuracies:\n",
    "    epochs, accs = zip(*accuracies)\n",
    "    plt.plot(epochs, accs, marker=\"o\")\n",
    "    plt.xlabel(\"Epoch\")\n",
    "    plt.ylabel(\"Test Accuracy\")\n",
    "    plt.title(\"SVC Accuracy (Every 5 Epochs)\")\n",
    "    plt.grid(True)\n",
    "    plt.show()"
   ]
  },
  {
   "cell_type": "markdown",
   "id": "e8e31af9",
   "metadata": {
    "lines_to_next_cell": 0
   },
   "source": [
    "## 6. Final Weights and Alignment"
   ]
  },
  {
   "cell_type": "code",
   "execution_count": null,
   "id": "e81c8505",
   "metadata": {},
   "outputs": [],
   "source": [
    "print(\"Final weights:\", torch.softmax(model.raw_weights, dim=0))\n",
    "print(f\"Final alignment: {alignments[-1]:.4f}\")"
   ]
  }
 ],
 "metadata": {
  "jupytext": {
   "cell_metadata_filter": "-all",
   "formats": "py:percent,ipynb",
   "main_language": "python"
  }
 },
 "nbformat": 4,
 "nbformat_minor": 5
}
