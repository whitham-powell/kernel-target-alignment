{
 "cells": [
  {
   "cell_type": "markdown",
   "id": "ab84c335",
   "metadata": {
    "lines_to_next_cell": 2
   },
   "source": [
    "# Polynomial Degree Sweep: Kernel–Target Alignment vs. SVM Accuracy\n",
    "*Dataset*: Breast-Cancer (binary, 30 features)\n",
    "*Message*: The Degree that **maximizes KTA** almost always maximizes test accuracy."
   ]
  },
  {
   "cell_type": "code",
   "execution_count": null,
   "id": "4aedd8eb",
   "metadata": {},
   "outputs": [],
   "source": [
    "import matplotlib.pyplot as plt\n",
    "import numpy as np\n",
    "from sklearn import datasets, model_selection, svm\n",
    "from sklearn.preprocessing import StandardScaler\n",
    "\n",
    "try:\n",
    "    from kta import kta  # noqa: F401\n",
    "    from kta.kernels import polynomial  # noqa: F401\n",
    "except ModuleNotFoundError:\n",
    "    print(\"Installing kta package...\")\n",
    "    import subprocess\n",
    "    import sys\n",
    "\n",
    "    subprocess.check_call(\n",
    "        [\n",
    "            sys.executable,\n",
    "            \"-m\",\n",
    "            \"pip\",\n",
    "            \"install\",\n",
    "            \"--quiet\",\n",
    "            \"git+https://github.com/whitham-powell/kernel-target-alignment.git\",\n",
    "        ],\n",
    "    )\n",
    "    from kta import kta\n",
    "    from kta.kernels import polynomial\n",
    "\n",
    "# 1️⃣ data\n",
    "X, y = datasets.load_breast_cancer(return_X_y=True)\n",
    "y = np.where(y == 0, -1, 1)\n",
    "X_tr, X_te, y_tr, y_te = model_selection.train_test_split(\n",
    "    X,\n",
    "    y,\n",
    "    test_size=0.3,\n",
    "    random_state=0,\n",
    "    stratify=y,\n",
    ")\n",
    "\n",
    "scaler = StandardScaler().fit(X_tr)\n",
    "X_tr = scaler.transform(X_tr)\n",
    "X_te = scaler.transform(X_te)"
   ]
  },
  {
   "cell_type": "code",
   "execution_count": null,
   "id": "4968289d",
   "metadata": {
    "lines_to_next_cell": 2
   },
   "outputs": [],
   "source": [
    "# 2️⃣ sweep degrees constant c\n",
    "degrees = [2, 3, 4, 5, 6]\n",
    "c = 1.0\n",
    "\n",
    "alignments, accuracies = [], []\n",
    "for d in degrees:\n",
    "    K_tr = polynomial(X_tr, None, degree=d, c=c)\n",
    "    alignments.append(kta(K_tr, y_tr))\n",
    "\n",
    "    K_te = polynomial(X_te, X_tr, degree=d, c=c)\n",
    "\n",
    "    clf = svm.SVC(kernel=\"precomputed\", C=1.0)\n",
    "    clf.fit(K_tr, y_tr)\n",
    "    accuracies.append(clf.score(K_te, y_te))"
   ]
  },
  {
   "cell_type": "code",
   "execution_count": null,
   "id": "a21f1edd",
   "metadata": {},
   "outputs": [],
   "source": [
    "# 3️⃣ plot Degree vs Alignment & Accuracy\n",
    "fig, ax1 = plt.subplots(figsize=(7, 4))\n",
    "ax2 = ax1.twinx()\n",
    "\n",
    "ax1.plot(degrees, alignments, marker=\"o\", label=\"KTA\")\n",
    "ax2.plot(degrees, accuracies, marker=\"x\", color=\"tab:orange\", label=\"Accuracy\")\n",
    "\n",
    "ax1.set_xlabel(\"Polynomial degree\")\n",
    "ax1.set_ylabel(\"Alignment\")\n",
    "ax2.set_ylabel(\"Test accuracy\")\n",
    "fig.legend()\n",
    "fig.suptitle(\"Polynomial degree sweep — KTA vs Accuracy\")\n",
    "fig.tight_layout()\n",
    "plt.show()"
   ]
  },
  {
   "cell_type": "code",
   "execution_count": null,
   "id": "8b4e1c72",
   "metadata": {},
   "outputs": [],
   "source": [
    "# 4️⃣ sweep coefficient c\n",
    "cs = np.logspace(-2, 2, 40)\n",
    "degree = 2\n",
    "alignments, accuracies = [], []\n",
    "for c in cs:\n",
    "    K_tr = polynomial(X_tr, None, degree=degree, c=c)\n",
    "    alignments.append(kta(K_tr, y_tr))\n",
    "\n",
    "    K_te = polynomial(X_te, X_tr, degree=degree, c=c)\n",
    "\n",
    "    clf = svm.SVC(kernel=\"precomputed\", C=1.0)\n",
    "    clf.fit(K_tr, y_tr)\n",
    "    accuracies.append(clf.score(K_te, y_te))"
   ]
  },
  {
   "cell_type": "code",
   "execution_count": null,
   "id": "336127e3",
   "metadata": {},
   "outputs": [],
   "source": [
    "# 5️⃣ plot c vs Alignment & Accuracy\n",
    "fig, ax1 = plt.subplots(figsize=(7, 4))\n",
    "ax2 = ax1.twinx()\n",
    "ax1.plot(np.log10(cs), alignments, marker=\"o\", label=\"KTA\")\n",
    "ax2.plot(np.log10(cs), accuracies, marker=\"x\", color=\"tab:orange\", label=\"Accuracy\")\n",
    "ax1.set_xlabel(\"log₁₀ c\")\n",
    "ax1.set_ylabel(\"Alignment\")\n",
    "ax2.set_ylabel(\"Test accuracy\")\n",
    "fig.legend()\n",
    "fig.suptitle(f\"Polynomial c sweep — KTA vs Accuracy (degree={degree})\")\n",
    "fig.tight_layout()\n",
    "plt.show()"
   ]
  },
  {
   "cell_type": "code",
   "execution_count": null,
   "id": "61d8d4b0",
   "metadata": {},
   "outputs": [],
   "source": []
  }
 ],
 "metadata": {
  "jupytext": {
   "cell_metadata_filter": "-all",
   "formats": "py:percent,ipynb",
   "main_language": "python"
  }
 },
 "nbformat": 4,
 "nbformat_minor": 5
}
