{
 "cells": [
  {
   "cell_type": "markdown",
   "id": "ab84c335",
   "metadata": {},
   "source": [
    "# Polynomial Degree Sweep: Kernel–Target Alignment vs. SVM Accuracy\n",
    "**Dataset:** Breast Cancer (binary, 30 features)\n",
    "**Goal:** Show how Kernel-Target Alignment (KTA) correlates with SVM test accuracy\n",
    "as we vary the **polynomial degree** and the **offset coefficient** $c$."
   ]
  },
  {
   "cell_type": "code",
   "execution_count": null,
   "id": "4aedd8eb",
   "metadata": {},
   "outputs": [],
   "source": [
    "import matplotlib.lines as mlines\n",
    "import matplotlib.pyplot as plt\n",
    "import numpy as np\n",
    "from sklearn import datasets, model_selection, svm\n",
    "from sklearn.preprocessing import StandardScaler\n",
    "\n",
    "# Try to import your package; install on first‐run if needed\n",
    "try:\n",
    "    from kta import kta  # noqa: F401\n",
    "    from kta.kernels import polynomial  # noqa: F401\n",
    "except ModuleNotFoundError:\n",
    "    print(\"Installing kta package...\")\n",
    "    import subprocess\n",
    "    import sys\n",
    "\n",
    "    subprocess.check_call(\n",
    "        [\n",
    "            sys.executable,\n",
    "            \"-m\",\n",
    "            \"pip\",\n",
    "            \"install\",\n",
    "            \"--quiet\",\n",
    "            \"git+https://github.com/whitham-powell/kernel-target-alignment.git\",\n",
    "        ],\n",
    "    )\n",
    "    from kta import kta\n",
    "    from kta.kernels import polynomial"
   ]
  },
  {
   "cell_type": "markdown",
   "id": "1e8b1730",
   "metadata": {},
   "source": [
    "## 1️⃣ Data loading & preprocessing\n",
    "- Load the breast-cancer dataset\n",
    "- Map labels to ±1\n",
    "- Split into train/test (70/30 stratified)\n",
    "- Standardize features **using only the training set**"
   ]
  },
  {
   "cell_type": "code",
   "execution_count": null,
   "id": "e297bcff",
   "metadata": {},
   "outputs": [],
   "source": [
    "# Load & split\n",
    "X, y = datasets.load_breast_cancer(return_X_y=True)\n",
    "y = np.where(y == 0, -1, 1)\n",
    "X_tr, X_te, y_tr, y_te = model_selection.train_test_split(\n",
    "    X,\n",
    "    y,\n",
    "    test_size=0.3,\n",
    "    random_state=0,\n",
    "    stratify=y,\n",
    ")\n",
    "\n",
    "# Scale *only* on train, then apply to test\n",
    "scaler = StandardScaler().fit(X_tr)\n",
    "X_tr = scaler.transform(X_tr)\n",
    "X_te = scaler.transform(X_te)"
   ]
  },
  {
   "cell_type": "markdown",
   "id": "80956f19",
   "metadata": {},
   "source": [
    "## 2️⃣ Sweep: Polynomial **degree** (fixed $c=1$)\n",
    "- For each $d\\in\\{2,3,4,5,6\\}$:\n",
    "  1. Compute train–train Gram via your `polynomial(X_tr, degree=d, c=1)`\n",
    "  2. Compute KTA on that Gram\n",
    "  3. Compute test–train Gram via `polynomial(X_te, X_tr, degree=d, c=1)`\n",
    "  4. Train a **precomputed-kernel SVM** and record test accuracy"
   ]
  },
  {
   "cell_type": "code",
   "execution_count": null,
   "id": "4968289d",
   "metadata": {
    "lines_to_next_cell": 2
   },
   "outputs": [],
   "source": [
    "degrees = [2, 3, 4, 5, 6]\n",
    "c = 1.0\n",
    "\n",
    "alignments, accuracies = [], []\n",
    "for d in degrees:\n",
    "    K_tr = polynomial(X_tr, None, degree=d, c=c)\n",
    "    alignments.append(kta(K_tr, y_tr))\n",
    "\n",
    "    K_te = polynomial(X_te, X_tr, degree=d, c=c)\n",
    "\n",
    "    clf = svm.SVC(kernel=\"precomputed\", C=1.0)\n",
    "    clf.fit(K_tr, y_tr)\n",
    "    accuracies.append(clf.score(K_te, y_te))"
   ]
  },
  {
   "cell_type": "markdown",
   "id": "0b2df71f",
   "metadata": {},
   "source": [
    "### Plot Degree vs Alignment & Accuracy"
   ]
  },
  {
   "cell_type": "code",
   "execution_count": null,
   "id": "a21f1edd",
   "metadata": {},
   "outputs": [],
   "source": [
    "fig, ax1 = plt.subplots(figsize=(7, 4))\n",
    "ax2 = ax1.twinx()\n",
    "\n",
    "ax1.plot(degrees, alignments, marker=\"o\", label=\"KTA\")\n",
    "ax2.plot(degrees, accuracies, marker=\"x\", color=\"tab:orange\", label=\"Accuracy\")\n",
    "\n",
    "ax1.set_xlabel(\"Polynomial degree\")\n",
    "ax1.set_ylabel(\"Alignment\")\n",
    "ax2.set_ylabel(\"Test accuracy\")\n",
    "fig.legend()\n",
    "fig.suptitle(\"Polynomial degree sweep — KTA vs Accuracy\")\n",
    "fig.tight_layout()\n",
    "plt.show()"
   ]
  },
  {
   "cell_type": "markdown",
   "id": "8d6ed82b",
   "metadata": {},
   "source": [
    "## 3️⃣ Sweep: Offset coefficient **$c$** (fixed $d=2$)\n",
    "- For $c\\in[10^{-2},10^2]$ (40 log-spaced points), repeat the same steps as above.\n",
    " sweep coefficient c"
   ]
  },
  {
   "cell_type": "code",
   "execution_count": null,
   "id": "8b4e1c72",
   "metadata": {},
   "outputs": [],
   "source": [
    "cs = np.logspace(-2, 2, 40)\n",
    "degree = 2\n",
    "alignments, accuracies = [], []\n",
    "for c in cs:\n",
    "    K_tr = polynomial(X_tr, None, degree=degree, c=c)\n",
    "    alignments.append(kta(K_tr, y_tr))\n",
    "\n",
    "    K_te = polynomial(X_te, X_tr, degree=degree, c=c)\n",
    "\n",
    "    clf = svm.SVC(kernel=\"precomputed\", C=1.0)\n",
    "    clf.fit(K_tr, y_tr)\n",
    "    accuracies.append(clf.score(K_te, y_te))"
   ]
  },
  {
   "cell_type": "markdown",
   "id": "a41ff207",
   "metadata": {},
   "source": [
    "### a Plot: $\\log_{10}(c)$ vs KTA & Accuracy"
   ]
  },
  {
   "cell_type": "code",
   "execution_count": null,
   "id": "336127e3",
   "metadata": {},
   "outputs": [],
   "source": [
    "fig, ax1 = plt.subplots(figsize=(7, 4))\n",
    "ax2 = ax1.twinx()\n",
    "ax1.plot(np.log10(cs), alignments, marker=\"o\", label=\"KTA\")\n",
    "ax2.plot(np.log10(cs), accuracies, marker=\"x\", color=\"tab:orange\", label=\"Accuracy\")\n",
    "ax1.set_xlabel(\"log₁₀ c\")\n",
    "ax1.set_ylabel(\"Alignment\")\n",
    "ax2.set_ylabel(\"Test accuracy\")\n",
    "fig.legend()\n",
    "fig.suptitle(f\"Polynomial c sweep — KTA vs Accuracy (degree={degree})\")\n",
    "fig.tight_layout()\n",
    "plt.show()"
   ]
  },
  {
   "cell_type": "markdown",
   "id": "3ecb01b4",
   "metadata": {},
   "source": [
    "## 4️⃣ Sweep: 2-D Grid: (degree, $c$) → KTA & Accuracy heatmaps\n",
    "- Build two matrices of shape ( len(degrees) × len(cs) )\n",
    "- Left: **KTA** landscape, Right: **Test accuracy** landscape"
   ]
  },
  {
   "cell_type": "code",
   "execution_count": null,
   "id": "14e20e73",
   "metadata": {},
   "outputs": [],
   "source": [
    "degrees = [2, 3, 4, 5, 6]\n",
    "cs = np.logspace(-2, 2, 10)  # c from 0.01 to 100\n",
    "\n",
    "kta_grid = np.zeros((len(degrees), len(cs)))\n",
    "acc_grid = np.zeros_like(kta_grid)\n",
    "\n",
    "for i, d in enumerate(degrees):\n",
    "    for j, c in enumerate(cs):\n",
    "        # train–train and test–train Gram via your polynomial()\n",
    "        K_tr = polynomial(X_tr, degree=d, c=c)\n",
    "        K_te = polynomial(X_te, X_tr, degree=d, c=c)\n",
    "\n",
    "        # ① alignment\n",
    "        kta_grid[i, j] = kta(K_tr, y_tr)\n",
    "\n",
    "        # ② precomputed SVM accuracy\n",
    "        clf = svm.SVC(kernel=\"precomputed\", C=1.0)\n",
    "        clf.fit(K_tr, y_tr)\n",
    "        acc_grid[i, j] = clf.score(K_te, y_te)"
   ]
  },
  {
   "cell_type": "markdown",
   "id": "227d7f34",
   "metadata": {},
   "source": [
    "### Plot side-by-side heatmaps"
   ]
  },
  {
   "cell_type": "code",
   "execution_count": null,
   "id": "08479c0d",
   "metadata": {
    "lines_to_next_cell": 2
   },
   "outputs": [],
   "source": [
    "cs_log = np.log10(cs)\n",
    "deg_arr = np.array(degrees)\n",
    "C, D = np.meshgrid(cs_log, deg_arr)\n",
    "\n",
    "fig, (ax1, ax2) = plt.subplots(1, 2, figsize=(12, 4), sharex=True, sharey=True)\n",
    "\n",
    "pcm1 = ax1.pcolormesh(C, D, kta_grid, shading=\"auto\", cmap=\"viridis\")\n",
    "ax1.set_xlabel(\"log₁₀(c)\")\n",
    "ax1.set_ylabel(\"degree\")\n",
    "ax1.set_title(\"KTA\")\n",
    "fig.colorbar(pcm1, ax=ax1, label=\"alignment\")\n",
    "\n",
    "pcm2 = ax2.pcolormesh(C, D, acc_grid, shading=\"auto\", cmap=\"plasma\")\n",
    "ax2.set_xlabel(\"log₁₀(c)\")\n",
    "ax2.set_title(\"Test Accuracy\")\n",
    "fig.colorbar(pcm2, ax=ax2, label=\"accuracy\")\n",
    "fig.suptitle(\"Polynomial kernel grid: KTA vs Accuracy\")\n",
    "\n",
    "\n",
    "plt.tight_layout()\n",
    "plt.show()"
   ]
  },
  {
   "cell_type": "markdown",
   "id": "8d4ab892",
   "metadata": {},
   "source": [
    "##  Difference map: where Accuracy – KTA (normalized)\n",
    "Blue → accuracy leads; Red → alignment leads."
   ]
  },
  {
   "cell_type": "code",
   "execution_count": null,
   "id": "46f0db03",
   "metadata": {
    "lines_to_next_cell": 2
   },
   "outputs": [],
   "source": [
    "kta_n = (kta_grid - kta_grid.min()) / (kta_grid.max() - kta_grid.min())\n",
    "acc_n = (acc_grid - acc_grid.min()) / (acc_grid.max() - acc_grid.min())\n",
    "diff = acc_n - kta_n\n",
    "\n",
    "fig, ax = plt.subplots(figsize=(6, 5))\n",
    "pcm = ax.pcolormesh(C, D, diff, cmap=\"RdBu_r\", shading=\"auto\", vmin=-1, vmax=1)\n",
    "fig.colorbar(pcm, ax=ax, label=\"Accₙ – KTAₙ\")\n",
    "ax.set_xlabel(\"log₁₀(c)\")\n",
    "ax.set_ylabel(\"degree\")\n",
    "ax.set_title(\"Accuracy > Alignment (blue) vs Alignment > Accuracy (red)\")\n",
    "plt.tight_layout()\n",
    "plt.show()"
   ]
  },
  {
   "cell_type": "markdown",
   "id": "18212a6f",
   "metadata": {
    "lines_to_next_cell": 0
   },
   "source": [
    "### Overlay: best‐Accuracy contour on KTA heatmap\n",
    "● = best KTA point; × = best accuracy point.\n",
    "The white contour traces the single highest‐accuracy level."
   ]
  },
  {
   "cell_type": "code",
   "execution_count": null,
   "id": "cc837110",
   "metadata": {
    "lines_to_next_cell": 0
   },
   "outputs": [],
   "source": [
    "\n",
    "# locate best indices\n",
    "i_k, j_k = np.unravel_index(np.argmax(kta_grid), kta_grid.shape)\n",
    "i_a, j_a = np.unravel_index(np.argmax(acc_grid), kta_grid.shape)\n",
    "best_acc = acc_grid[i_a, j_a]\n",
    "\n",
    "fig, ax = plt.subplots(figsize=(12, 5))\n",
    "pcm = ax.pcolormesh(C, D, kta_grid, cmap=\"viridis\", shading=\"auto\")\n",
    "fig.colorbar(pcm, ax=ax, label=\"KTA\")\n",
    "\n",
    "# white contour @ best accuracy\n",
    "ax.contour(C, D, acc_grid, levels=[best_acc], colors=\"white\", linewidths=2)\n",
    "\n",
    "# marker proxies\n",
    "h_k = ax.plot(cs_log[j_k], degrees[i_k], \"o\", ms=12, mfc=\"none\", mec=\"k\")[0]\n",
    "h_a = ax.plot(cs_log[j_a], degrees[i_a], \"X\", ms=12, mfc=\"w\", mec=\"k\")[0]\n",
    "cont_proxy = mlines.Line2D([], [], color=\"white\", lw=2)\n",
    "\n",
    "ax.set_xlabel(\"log₁₀(c)\")\n",
    "ax.set_ylabel(\"degree\")\n",
    "ax.set_title(\"KTA heatmap + Best‐Accuracy Overlay\")\n",
    "\n",
    "# horizontal legend below\n",
    "ax.legend(\n",
    "    [h_k, h_a, cont_proxy],\n",
    "    [\"Best KTA\", \"Best Accuracy\", f\"Acc = {best_acc:.3f}\"],\n",
    "    loc=\"upper center\",\n",
    "    bbox_to_anchor=(0.5, -0.15),\n",
    "    ncol=3,\n",
    "    frameon=False,\n",
    "    fontsize=\"small\",\n",
    ")\n",
    "\n",
    "plt.subplots_adjust(bottom=0.25)\n",
    "plt.tight_layout(rect=[0, 0, 0.75, 1])\n",
    "plt.show()"
   ]
  },
  {
   "cell_type": "code",
   "execution_count": null,
   "id": "61d8d4b0",
   "metadata": {},
   "outputs": [],
   "source": []
  }
 ],
 "metadata": {
  "jupytext": {
   "cell_metadata_filter": "-all",
   "formats": "py:percent,ipynb",
   "main_language": "python"
  }
 },
 "nbformat": 4,
 "nbformat_minor": 5
}
